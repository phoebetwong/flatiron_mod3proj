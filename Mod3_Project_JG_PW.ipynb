{
 "cells": [
  {
   "cell_type": "code",
   "execution_count": 17,
   "metadata": {},
   "outputs": [],
   "source": [
    "import pandas as pd\n",
    "import math\n",
    "import numpy as np\n",
    "import scipy\n",
    "import os\n",
    "import seaborn as sns\n",
    "from scipy.stats import binom, hypergeom\n",
    "import pandas as pd\n",
    "import matplotlib.pyplot as plt\n",
    "from sklearn.linear_model import LogisticRegression\n",
    "\n",
    "%matplotlib inline"
   ]
  },
  {
   "cell_type": "code",
   "execution_count": 3,
   "metadata": {},
   "outputs": [],
   "source": [
    "cc_df = pd.read_csv('master_cc.csv')"
   ]
  },
  {
   "cell_type": "code",
   "execution_count": 4,
   "metadata": {},
   "outputs": [],
   "source": [
    "fc_df = pd.read_csv('master_fc.csv')"
   ]
  },
  {
   "cell_type": "code",
   "execution_count": 5,
   "metadata": {},
   "outputs": [],
   "source": [
    "master = pd.read_csv('master_final.csv')"
   ]
  },
  {
   "cell_type": "markdown",
   "metadata": {},
   "source": [
    "## T Tests"
   ]
  },
  {
   "cell_type": "markdown",
   "metadata": {},
   "source": [
    "### Function that returns t test results via three different methods (for cross checking) and histogram"
   ]
  },
  {
   "cell_type": "code",
   "execution_count": 812,
   "metadata": {},
   "outputs": [],
   "source": [
    "# TWO TAIL T TEST FUNCTION\n",
    "import numpy as np\n",
    "from scipy.stats import ttest_ind, ttest_ind_from_stats\n",
    "from scipy.special import stdtr\n",
    "import matplotlib.pyplot as plt\n",
    "import seaborn as sns\n",
    "\n",
    "def namestr(obj, namespace):\n",
    "    return [name for name in namespace if namespace[name] is obj]\n",
    "\n",
    "def ttest(a1, b1):\n",
    "    np.random.seed(1)\n",
    "\n",
    "    # Create sample data.\n",
    "    a = np.random.randn(40)\n",
    "    b = 4*np.random.randn(50)\n",
    "\n",
    "    # Use scipy.stats.ttest_ind.\n",
    "    t, p = ttest_ind(a1, b1, equal_var=False)\n",
    "    print(\"ttest_ind:            t = %g  p = %g\" % (t, p))\n",
    "\n",
    "    # Compute the descriptive statistics of a and b.\n",
    "    abar = a1.mean()\n",
    "    avar = a1.var(ddof=1)\n",
    "    na = a1.size\n",
    "    adof = na - 1\n",
    "\n",
    "    bbar = b1.mean()\n",
    "    bvar = b1.var(ddof=1)\n",
    "    nb = b1.size\n",
    "    bdof = nb - 1\n",
    "    \n",
    "    diff = abar - bbar\n",
    "\n",
    "    # Use scipy.stats.ttest_ind_from_stats.\n",
    "    t2, p2 = ttest_ind_from_stats(abar, np.sqrt(avar), na,\n",
    "                                  bbar, np.sqrt(bvar), nb,\n",
    "                                  equal_var=False)\n",
    "    print(\"ttest_ind_from_stats: t = %g  p = %g \\n\" % (t2, p2))\n",
    "\n",
    "    # Use the formulas directly.\n",
    "    tf = (abar - bbar) / np.sqrt(avar/na + bvar/nb)\n",
    "    dof = (avar/na + bvar/nb)**2 / (avar**2/(na**2*adof) + bvar**2/(nb**2*bdof))\n",
    "    pf = 2*stdtr(dof, -np.abs(tf))\n",
    "    \n",
    "    a1_var_name = namestr(a1, globals())[0]\n",
    "    b1_var_name = namestr(b1, globals())[0]\n",
    "    \n",
    "    print(\"formula:              t = %g  p = %g\" % (tf, pf))\n",
    "    print(f\"{a1_var_name} mean = {round(abar,2)} ; {b1_var_name} mean = {round(bbar,2)} ; diff = {round(diff,2)}\")\n",
    "    print(f\"{a1_var_name} n = {len(a1)} ; {b1_var_name} n = {len(b1)}\")\n",
    "    \n",
    "    fig = plt.figure(figsize=(8, 8))\n",
    "    ax = fig.add_subplot(1, 1, 1)\n",
    "    sns.distplot(a1 , color=\"skyblue\", label=\"High\")\n",
    "    sns.distplot(b1 , color=\"red\", label=\"Low\")\n",
    "\n",
    "    ax.legend([a1_var_name, b1_var_name])\n",
    "\n",
    "    # ax.set(xlim=(0, 350))\n",
    "    ax.set_ylabel('Density')\n"
   ]
  },
  {
   "cell_type": "markdown",
   "metadata": {},
   "source": [
    "## 1. PAC & Soft money spending by federal contractors pre and post Citizens United"
   ]
  },
  {
   "cell_type": "markdown",
   "metadata": {},
   "source": [
    "#### Get series of soft money spent by contractors pre and post CU"
   ]
  },
  {
   "cell_type": "code",
   "execution_count": 843,
   "metadata": {
    "collapsed": true
   },
   "outputs": [
    {
     "data": {
      "text/plain": [
       "408    2500\n",
       "409       0\n",
       "410       0\n",
       "411       0\n",
       "412       0\n",
       "Name: Soft_Orgs, dtype: int64"
      ]
     },
     "execution_count": 843,
     "metadata": {},
     "output_type": "execute_result"
    }
   ],
   "source": [
    "soft_postCU = master.loc[(master['year']>2011),'Soft_Orgs'].dropna()\n",
    "soft_postCU.head()"
   ]
  },
  {
   "cell_type": "code",
   "execution_count": 839,
   "metadata": {},
   "outputs": [],
   "source": [
    "soft_preCU = master.loc[(master['year']<=2011),'Soft_Orgs'].dropna()"
   ]
  },
  {
   "cell_type": "markdown",
   "metadata": {},
   "source": [
    "#### Get series of PAC spending by contractors pre and post CU"
   ]
  },
  {
   "cell_type": "code",
   "execution_count": 845,
   "metadata": {
    "collapsed": true
   },
   "outputs": [
    {
     "data": {
      "text/plain": [
       "408     316500\n",
       "409      33000\n",
       "410       5500\n",
       "411    1389750\n",
       "412      11500\n",
       "Name: PACs, dtype: int64"
      ]
     },
     "execution_count": 845,
     "metadata": {},
     "output_type": "execute_result"
    }
   ],
   "source": [
    "PAC_postCU = master.loc[(master['year']>2011),'PACs'].dropna()\n",
    "PAC_postCU.head()"
   ]
  },
  {
   "cell_type": "code",
   "execution_count": 841,
   "metadata": {},
   "outputs": [],
   "source": [
    "PAC_preCU = master.loc[(master['year']<=2011),'PACs'].dropna()"
   ]
  },
  {
   "cell_type": "markdown",
   "metadata": {},
   "source": [
    "#### Get series of sum of PAC and soft money by contractors pre and post CU"
   ]
  },
  {
   "cell_type": "code",
   "execution_count": 842,
   "metadata": {
    "collapsed": true
   },
   "outputs": [
    {
     "data": {
      "text/plain": [
       "408      319000\n",
       "409       33000\n",
       "410        5500\n",
       "411     1389750\n",
       "412       11500\n",
       "413       40000\n",
       "414      399959\n",
       "415       73576\n",
       "416       12000\n",
       "417     2024919\n",
       "418        6500\n",
       "419       97000\n",
       "420       19000\n",
       "421      686899\n",
       "422       14100\n",
       "423        1000\n",
       "424      244500\n",
       "425      202500\n",
       "426     1143452\n",
       "427      245000\n",
       "428        1416\n",
       "429      118200\n",
       "430     3505500\n",
       "431      158000\n",
       "432     1102500\n",
       "433      167500\n",
       "434      140000\n",
       "435      214000\n",
       "436      470000\n",
       "437      634000\n",
       "         ...   \n",
       "1376      16100\n",
       "1377     461150\n",
       "1378      44000\n",
       "1379      20500\n",
       "1383     120250\n",
       "1384     163000\n",
       "1385      65100\n",
       "1386      50500\n",
       "1389      19000\n",
       "1390       5000\n",
       "1393      87000\n",
       "1394     148600\n",
       "1395      46285\n",
       "1398     327800\n",
       "1399     485660\n",
       "1400     443499\n",
       "1401     404000\n",
       "1404     148000\n",
       "1407     242100\n",
       "1410      64500\n",
       "1411      12300\n",
       "1412     317350\n",
       "1413     294600\n",
       "1414     349299\n",
       "1415     308696\n",
       "1416      24500\n",
       "1417      37600\n",
       "1418     188000\n",
       "1419        450\n",
       "1420        300\n",
       "Length: 998, dtype: int64"
      ]
     },
     "execution_count": 842,
     "metadata": {},
     "output_type": "execute_result"
    }
   ],
   "source": [
    "sPAC_postCU = master.loc[master['year']>2011][['Soft_Orgs','PACs']].sum(axis=1)\n",
    "sPAC_postCU"
   ]
  },
  {
   "cell_type": "code",
   "execution_count": 846,
   "metadata": {
    "collapsed": true
   },
   "outputs": [
    {
     "data": {
      "text/plain": [
       "0        284404\n",
       "1         18000\n",
       "2       1028497\n",
       "3        107600\n",
       "4          6000\n",
       "5        155800\n",
       "6        345918\n",
       "7         20500\n",
       "8        308250\n",
       "9         35500\n",
       "10        49800\n",
       "11        74250\n",
       "12      4280200\n",
       "13      1006676\n",
       "14       130000\n",
       "15       199000\n",
       "16       271500\n",
       "17       159500\n",
       "18       187299\n",
       "19       267580\n",
       "20       110500\n",
       "21        46500\n",
       "22         9700\n",
       "23        50619\n",
       "24       206500\n",
       "25       634500\n",
       "26       119872\n",
       "27        80000\n",
       "28       470746\n",
       "29       583850\n",
       "         ...   \n",
       "393      151304\n",
       "394     2809399\n",
       "395     1287500\n",
       "396       30500\n",
       "397      374039\n",
       "398       20000\n",
       "399     1848200\n",
       "400        2000\n",
       "401      190700\n",
       "402      119560\n",
       "403      481000\n",
       "404        5000\n",
       "405      194000\n",
       "406      341675\n",
       "407       26500\n",
       "1380       4300\n",
       "1381     217250\n",
       "1382     123500\n",
       "1387      74000\n",
       "1388      26000\n",
       "1391     102800\n",
       "1392      92900\n",
       "1396     687000\n",
       "1397     204200\n",
       "1402     104000\n",
       "1403      69000\n",
       "1405     207800\n",
       "1406     222500\n",
       "1408      62000\n",
       "1409      91000\n",
       "Length: 423, dtype: int64"
      ]
     },
     "execution_count": 846,
     "metadata": {},
     "output_type": "execute_result"
    }
   ],
   "source": [
    "sPAC_preCU = master.loc[master['year']<=2011][['Soft_Orgs','PACs']].sum(axis=1)\n",
    "sPAC_preCU"
   ]
  },
  {
   "cell_type": "markdown",
   "metadata": {},
   "source": [
    "#### Take the log of the summed series"
   ]
  },
  {
   "cell_type": "code",
   "execution_count": 847,
   "metadata": {},
   "outputs": [],
   "source": [
    "lsPAC_postCU = np.log(sPAC_postCU)\n",
    "lsPAC_preCU = np.log(sPAC_preCU)"
   ]
  },
  {
   "cell_type": "markdown",
   "metadata": {},
   "source": [
    "#### T test results of sum of political spending by contractors, pre and post CU"
   ]
  },
  {
   "cell_type": "code",
   "execution_count": 848,
   "metadata": {
    "collapsed": true
   },
   "outputs": [
    {
     "name": "stdout",
     "output_type": "stream",
     "text": [
      "ttest_ind:            t = 2.51954  p = 0.0118868\n",
      "ttest_ind_from_stats: t = 2.51954  p = 0.0118868 \n",
      "\n",
      "formula:              t = 2.51954  p = 0.0118868\n",
      "sPAC_postCU mean = 519138.69 ; _ mean = 404309.4 ; diff = 114829.29\n",
      "sPAC_postCU n = 998 ; _ n = 423\n"
     ]
    },
    {
     "name": "stderr",
     "output_type": "stream",
     "text": [
      "/Users/ptw/anaconda3/lib/python3.7/site-packages/matplotlib/legend.py:449: UserWarning: The handle <matplotlib.patches.Rectangle object at 0x7fa5799f2198> has a label of '_' which cannot be automatically added to the legend.\n",
      "  'legend.'.format(handle, label))\n"
     ]
    },
    {
     "data": {
      "image/png": "[encoded data removed]",
      "text/plain": [
       "<Figure size 576x576 with 1 Axes>"
      ]
     },
     "metadata": {
      "needs_background": "light"
     },
     "output_type": "display_data"
    }
   ],
   "source": [
    "ttest(sPAC_postCU, sPAC_preCU)"
   ]
  },
  {
   "cell_type": "code",
   "execution_count": 739,
   "metadata": {
    "scrolled": false
   },
   "outputs": [
    {
     "name": "stdout",
     "output_type": "stream",
     "text": [
      "ttest_ind:            t = 0.458022  p = 0.647047\n",
      "ttest_ind_from_stats: t = 0.458022  p = 0.647047 \n",
      "\n",
      "formula:              t = 0.458022  p = 0.647047\n",
      "lsPAC_postCU mean = 11.77 ; lsPAC_preCU mean = 11.72 ; diff = 0.05\n"
     ]
    },
    {
     "data": {
      "image/png": "[encoded data removed]",
      "text/plain": [
       "<Figure size 576x576 with 1 Axes>"
      ]
     },
     "metadata": {
      "needs_background": "light"
     },
     "output_type": "display_data"
    }
   ],
   "source": [
    "ttest(lsPAC_postCU, lsPAC_preCU)"
   ]
  },
  {
   "cell_type": "markdown",
   "metadata": {},
   "source": [
    "## 2. Contract award of corps w vs w/o PACs"
   ]
  },
  {
   "cell_type": "markdown",
   "metadata": {},
   "source": [
    "#### Get series of contract awarded to contractors with and without PAC spending"
   ]
  },
  {
   "cell_type": "code",
   "execution_count": 422,
   "metadata": {},
   "outputs": [],
   "source": [
    "fc_wPAC = fc_df.loc[(fc_df['PAC']== 1),'current_award_x'].dropna()"
   ]
  },
  {
   "cell_type": "code",
   "execution_count": 423,
   "metadata": {},
   "outputs": [],
   "source": [
    "fc_woPAC = fc_df.loc[(fc_df['PAC']== 0),'current_award_x'].dropna()"
   ]
  },
  {
   "cell_type": "markdown",
   "metadata": {},
   "source": [
    "#### Log the series"
   ]
  },
  {
   "cell_type": "code",
   "execution_count": 743,
   "metadata": {},
   "outputs": [],
   "source": [
    "lfc_wPAC = np.log(fc_wPAC)\n",
    "lfc_woPAC = np.log(fc_woPAC)\n"
   ]
  },
  {
   "cell_type": "markdown",
   "metadata": {},
   "source": [
    "#### Get series of contract awarded to contractors with and without PAC spending, pre and post CU"
   ]
  },
  {
   "cell_type": "code",
   "execution_count": 471,
   "metadata": {},
   "outputs": [],
   "source": [
    "fc_wPAC_postCU = fc_df.loc[(fc_df['PAC']== 1) & (fc_df['year'] >2011),'current_award_x'].dropna()"
   ]
  },
  {
   "cell_type": "code",
   "execution_count": 472,
   "metadata": {},
   "outputs": [],
   "source": [
    "fc_woPAC_postCU = fc_df.loc[(fc_df['PAC']== 0) & (fc_df['year'] >2011),'current_award_x'].dropna()"
   ]
  },
  {
   "cell_type": "code",
   "execution_count": 473,
   "metadata": {},
   "outputs": [],
   "source": [
    "fc_wPAC_preCU = fc_df.loc[(fc_df['PAC']== 1) & (fc_df['year'] <=2011),'current_award_x'].dropna()"
   ]
  },
  {
   "cell_type": "code",
   "execution_count": 474,
   "metadata": {},
   "outputs": [],
   "source": [
    "fc_woPAC_preCU = fc_df.loc[(fc_df['PAC']== 0) & (fc_df['year'] <=2011),'current_award_x'].dropna()"
   ]
  },
  {
   "cell_type": "markdown",
   "metadata": {},
   "source": [
    "#### T test results of contractors with and without PAC, pre and post CU"
   ]
  },
  {
   "cell_type": "code",
   "execution_count": 753,
   "metadata": {
    "scrolled": false
   },
   "outputs": [
    {
     "name": "stdout",
     "output_type": "stream",
     "text": [
      "ttest_ind:            t = 13.7169  p = 1.70726e-40\n",
      "ttest_ind_from_stats: t = 13.7169  p = 1.70726e-40 \n",
      "\n",
      "formula:              t = 13.7169  p = 1.70726e-40\n",
      "lfc_wPAC mean = 18.23 ; lfc_woPAC mean = 16.82 ; diff = 1.41\n"
     ]
    },
    {
     "data": {
      "image/png": "[encoded data removed]",
      "text/plain": [
       "<Figure size 576x576 with 1 Axes>"
      ]
     },
     "metadata": {
      "needs_background": "light"
     },
     "output_type": "display_data"
    }
   ],
   "source": [
    "ttest(lfc_wPAC, lfc_woPAC)"
   ]
  },
  {
   "cell_type": "code",
   "execution_count": 741,
   "metadata": {
    "scrolled": true
   },
   "outputs": [
    {
     "name": "stdout",
     "output_type": "stream",
     "text": [
      "ttest_ind:            t = 3.61397  p = 0.00031631\n",
      "ttest_ind_from_stats: t = 3.61397  p = 0.00031631 \n",
      "\n",
      "formula:              t = 3.61397  p = 0.00031631\n",
      "fc_wPAC_postCU mean = 81923688310.28 ; fc_woPAC_postCU mean = 3035866845.71 ; diff = 78887821464.57\n"
     ]
    },
    {
     "data": {
      "image/png": "[encoded data removed]",
      "text/plain": [
       "<Figure size 576x576 with 1 Axes>"
      ]
     },
     "metadata": {
      "needs_background": "light"
     },
     "output_type": "display_data"
    }
   ],
   "source": [
    "ttest(fc_wPAC_postCU, fc_woPAC_postCU)"
   ]
  },
  {
   "cell_type": "code",
   "execution_count": 742,
   "metadata": {
    "scrolled": true
   },
   "outputs": [
    {
     "name": "stdout",
     "output_type": "stream",
     "text": [
      "ttest_ind:            t = 1.90631  p = 0.0571202\n",
      "ttest_ind_from_stats: t = 1.90631  p = 0.0571202 \n",
      "\n",
      "formula:              t = 1.90631  p = 0.0571202\n",
      "fc_wPAC_preCU mean = 13068926519.24 ; fc_woPAC_preCU mean = 3403042314.66 ; diff = 9665884204.58\n"
     ]
    },
    {
     "data": {
      "image/png": "[encoded data removed]",
      "text/plain": [
       "<Figure size 576x576 with 1 Axes>"
      ]
     },
     "metadata": {
      "needs_background": "light"
     },
     "output_type": "display_data"
    }
   ],
   "source": [
    "ttest(fc_wPAC_preCU, fc_woPAC_preCU)"
   ]
  },
  {
   "cell_type": "markdown",
   "metadata": {},
   "source": [
    "## 3. Contractors donate the same as non contractors to Dems & Rep"
   ]
  },
  {
   "cell_type": "markdown",
   "metadata": {},
   "source": [
    "### Get series of contractors' and non-contractors' donation to Democrats and Republicans"
   ]
  },
  {
   "cell_type": "code",
   "execution_count": 550,
   "metadata": {},
   "outputs": [],
   "source": [
    "cc_df['Total'] = cc_df['Democrats_x'] + cc_df['Republicans_x']"
   ]
  },
  {
   "cell_type": "code",
   "execution_count": 553,
   "metadata": {},
   "outputs": [],
   "source": [
    "cc_df['ShareDem'] = cc_df['Democrats_x']/cc_df['Total']"
   ]
  },
  {
   "cell_type": "code",
   "execution_count": 554,
   "metadata": {},
   "outputs": [],
   "source": [
    "cc_df['ShareRep'] = cc_df['Republicans_x']/cc_df['Total']"
   ]
  },
  {
   "cell_type": "code",
   "execution_count": 555,
   "metadata": {
    "scrolled": true
   },
   "outputs": [],
   "source": [
    "cc_df['MoreDem'] = 0"
   ]
  },
  {
   "cell_type": "code",
   "execution_count": 556,
   "metadata": {},
   "outputs": [],
   "source": [
    "cc_df.loc[cc_df['ShareDem'] > cc_df['ShareRep'], 'MoreDem'] = 1"
   ]
  },
  {
   "cell_type": "markdown",
   "metadata": {},
   "source": [
    "### Calculation for proportional z test"
   ]
  },
  {
   "cell_type": "code",
   "execution_count": 557,
   "metadata": {},
   "outputs": [
    {
     "data": {
      "text/plain": [
       "16445"
      ]
     },
     "execution_count": 557,
     "metadata": {},
     "output_type": "execute_result"
    }
   ],
   "source": [
    "cc_df.MoreDem.sum()"
   ]
  },
  {
   "cell_type": "code",
   "execution_count": 558,
   "metadata": {},
   "outputs": [
    {
     "data": {
      "text/plain": [
       "469"
      ]
     },
     "execution_count": 558,
     "metadata": {},
     "output_type": "execute_result"
    }
   ],
   "source": [
    "cc_df.loc[(cc_df['FC']==1),'MoreDem'].sum()"
   ]
  },
  {
   "cell_type": "code",
   "execution_count": 560,
   "metadata": {},
   "outputs": [
    {
     "data": {
      "text/plain": [
       "1426"
      ]
     },
     "execution_count": 560,
     "metadata": {},
     "output_type": "execute_result"
    }
   ],
   "source": [
    "cc_df.loc[(cc_df['FC']==1),'MoreDem'].count()"
   ]
  },
  {
   "cell_type": "code",
   "execution_count": 567,
   "metadata": {},
   "outputs": [
    {
     "data": {
      "text/plain": [
       "0.3288920056100982"
      ]
     },
     "execution_count": 567,
     "metadata": {},
     "output_type": "execute_result"
    }
   ],
   "source": [
    "469/1426"
   ]
  },
  {
   "cell_type": "code",
   "execution_count": 561,
   "metadata": {},
   "outputs": [
    {
     "data": {
      "text/plain": [
       "15976"
      ]
     },
     "execution_count": 561,
     "metadata": {},
     "output_type": "execute_result"
    }
   ],
   "source": [
    "cc_df.loc[(cc_df['FC']==0),'MoreDem'].sum()"
   ]
  },
  {
   "cell_type": "code",
   "execution_count": 562,
   "metadata": {},
   "outputs": [
    {
     "data": {
      "text/plain": [
       "39765"
      ]
     },
     "execution_count": 562,
     "metadata": {},
     "output_type": "execute_result"
    }
   ],
   "source": [
    "cc_df.loc[(cc_df['FC']==0),'MoreDem'].count()"
   ]
  },
  {
   "cell_type": "code",
   "execution_count": 568,
   "metadata": {},
   "outputs": [
    {
     "data": {
      "text/plain": [
       "0.40176034200930466"
      ]
     },
     "execution_count": 568,
     "metadata": {},
     "output_type": "execute_result"
    }
   ],
   "source": [
    "15976/39765"
   ]
  },
  {
   "cell_type": "code",
   "execution_count": 563,
   "metadata": {},
   "outputs": [],
   "source": [
    "import numpy as np\n",
    "from statsmodels.stats.proportion import proportions_ztest"
   ]
  },
  {
   "cell_type": "code",
   "execution_count": 569,
   "metadata": {
    "scrolled": false
   },
   "outputs": [
    {
     "name": "stdout",
     "output_type": "stream",
     "text": [
      "-5.5205307755\n",
      "0.0000000338\n"
     ]
    }
   ],
   "source": [
    "count = np.array([469,15976])\n",
    "nobs = np.array([1426,39765])\n",
    "stat, pval = proportions_ztest(count, nobs)\n",
    "print('{0:0.10f}'.format(stat))\n",
    "print('{0:0.10f}'.format(pval))"
   ]
  },
  {
   "cell_type": "code",
   "execution_count": 849,
   "metadata": {
    "scrolled": true
   },
   "outputs": [
    {
     "name": "stdout",
     "output_type": "stream",
     "text": [
      "5.5205307755\n",
      "0.0000000338\n"
     ]
    }
   ],
   "source": [
    "count = np.array([15976, 469])\n",
    "nobs = np.array([39765, 1426])\n",
    "stat, pval = proportions_ztest(count, nobs)\n",
    "print('{0:0.10f}'.format(stat))\n",
    "print('{0:0.10f}'.format(pval))"
   ]
  },
  {
   "cell_type": "markdown",
   "metadata": {},
   "source": [
    "#### Get series for lollipop charts"
   ]
  },
  {
   "cell_type": "code",
   "execution_count": 876,
   "metadata": {
    "scrolled": false
   },
   "outputs": [
    {
     "data": {
      "text/plain": [
       "Cycle_x\n",
       "2008    378076775\n",
       "2010    318733723\n",
       "2012    310564672\n",
       "2014    279213544\n",
       "2016    360508188\n",
       "2018    346952878\n",
       "Name: Democrats_x, dtype: int64"
      ]
     },
     "execution_count": 876,
     "metadata": {},
     "output_type": "execute_result"
    }
   ],
   "source": [
    "nfc_post_d = cc_df[(cc_df['FC'] == 0) & (cc_df['Cycle_x'] > 2006) & (\n",
    "    cc_df['Cycle_x'] < 2020)].groupby('Cycle_x')['Democrats_x'].sum()\n",
    "nfc_post_d"
   ]
  },
  {
   "cell_type": "code",
   "execution_count": 877,
   "metadata": {},
   "outputs": [
    {
     "data": {
      "text/plain": [
       "Cycle_x\n",
       "2008    278582416\n",
       "2010    251276241\n",
       "2012    386382570\n",
       "2014    341892433\n",
       "2016    415435748\n",
       "2018    358460994\n",
       "Name: Republicans_x, dtype: int64"
      ]
     },
     "execution_count": 877,
     "metadata": {},
     "output_type": "execute_result"
    }
   ],
   "source": [
    "nfc_post_r = cc_df[(cc_df['FC'] == 0) & (cc_df['Cycle_x'] > 2006) & (\n",
    "    cc_df['Cycle_x'] < 2020)].groupby('Cycle_x')['Republicans_x'].sum()\n",
    "nfc_post_r"
   ]
  },
  {
   "cell_type": "code",
   "execution_count": 878,
   "metadata": {
    "scrolled": true
   },
   "outputs": [
    {
     "data": {
      "text/plain": [
       "Cycle_x\n",
       "2008    66170112\n",
       "2010    59929507\n",
       "2012    65223184\n",
       "2014    56378225\n",
       "2016    82026555\n",
       "2018    84393527\n",
       "Name: Democrats_x, dtype: int64"
      ]
     },
     "execution_count": 878,
     "metadata": {},
     "output_type": "execute_result"
    }
   ],
   "source": [
    "fc_post_d = cc_df[(cc_df['FC'] == 1) & (cc_df['Cycle_x'] > 2006) & (\n",
    "    cc_df['Cycle_x'] < 2020)].groupby('Cycle_x')['Democrats_x'].sum()\n",
    "fc_post_d"
   ]
  },
  {
   "cell_type": "code",
   "execution_count": 879,
   "metadata": {},
   "outputs": [
    {
     "data": {
      "text/plain": [
       "Cycle_x\n",
       "2008     64241714\n",
       "2010     61241790\n",
       "2012    101135102\n",
       "2014     86366491\n",
       "2016    119492336\n",
       "2018    112329295\n",
       "Name: Republicans_x, dtype: int64"
      ]
     },
     "execution_count": 879,
     "metadata": {},
     "output_type": "execute_result"
    }
   ],
   "source": [
    "fc_post_r = cc_df[(cc_df['FC'] == 1) & (cc_df['Cycle_x'] > 2006) & (\n",
    "    cc_df['Cycle_x'] < 2020)].groupby('Cycle_x')['Republicans_x'].sum()\n",
    "fc_post_r"
   ]
  },
  {
   "cell_type": "code",
   "execution_count": 881,
   "metadata": {},
   "outputs": [],
   "source": [
    "yr = list(value1.index)"
   ]
  },
  {
   "cell_type": "code",
   "execution_count": 893,
   "metadata": {},
   "outputs": [
    {
     "data": {
      "text/plain": [
       "Text(0, 0.5, 'Year')"
      ]
     },
     "execution_count": 893,
     "metadata": {},
     "output_type": "execute_result"
    },
    {
     "data": {
      "image/png": "[encoded data removed]",
      "text/plain": [
       "<Figure size 432x288 with 1 Axes>"
      ]
     },
     "metadata": {
      "needs_background": "light"
     },
     "output_type": "display_data"
    }
   ],
   "source": [
    "### NonContractor\n",
    "# Create a dataframe\n",
    "df = pd.DataFrame({'group':yr, 'value1':nfc_post_d , 'value2':nfc_post_r })\n",
    " \n",
    "# Reorder it following the values of the first value:\n",
    "# ordered_df = df.sort_values(by='value2')\n",
    "# ordered_df=ordered_df.tail(10)\n",
    "my_range=range(1,len(df.index)+1)\n",
    "\n",
    "# The vertical plot is made using the hline function\n",
    "# I load the seaborn library only to benefit the nice looking feature\n",
    "import seaborn as sns\n",
    "plt.hlines(y=my_range, xmin=df['value1'], xmax=df['value2'], color='grey', alpha=0.4)\n",
    "plt.scatter(df['value1'], my_range, color='blue', alpha=1, label='Democrats')\n",
    "plt.scatter(df['value2'], my_range, color='red', alpha=1 , label='Republicans')\n",
    "plt.legend(prop={'size': 10})\n",
    "\n",
    "# Add title and axis names\n",
    "plt.yticks(my_range, df['group'])\n",
    "plt.title(\"Annual Average Campaign Donations from Non-Contractors\")\n",
    "plt.xlabel('Campaign Donations in USD')\n",
    "plt.ylabel('Year')\n",
    "# plt.savefig(\"4a_WGGENR.jpg\")\n"
   ]
  },
  {
   "cell_type": "markdown",
   "metadata": {},
   "source": [
    "## 4. Contractors donate the same amount of PAC & soft money as non contractors"
   ]
  },
  {
   "cell_type": "markdown",
   "metadata": {},
   "source": [
    "### Get series of contractors and non-contractors' PAC and soft money spending"
   ]
  },
  {
   "cell_type": "code",
   "execution_count": 782,
   "metadata": {},
   "outputs": [],
   "source": [
    "PAC_fc_postCU = cc_df.loc[(cc_df['Cycle_x'] >2011) & (cc_df['FC'] == 1),'PACs_x'].dropna()"
   ]
  },
  {
   "cell_type": "code",
   "execution_count": 783,
   "metadata": {},
   "outputs": [],
   "source": [
    "PAC_nfc_postCU = cc_df.loc[(cc_df['Cycle_x'] >2011) & (cc_df['FC'] == 0),'PACs_x'].dropna()"
   ]
  },
  {
   "cell_type": "code",
   "execution_count": 784,
   "metadata": {},
   "outputs": [],
   "source": [
    "PAC_fc_preCU = cc_df.loc[(cc_df['Cycle_x'] <=2011) & (cc_df['FC'] == 1),'PACs_x'].dropna()"
   ]
  },
  {
   "cell_type": "code",
   "execution_count": 785,
   "metadata": {},
   "outputs": [],
   "source": [
    "PAC_nfc_preCU = cc_df.loc[(cc_df['Cycle_x'] <=2011) & (cc_df['FC'] == 0),'PACs_x'].dropna()"
   ]
  },
  {
   "cell_type": "code",
   "execution_count": 786,
   "metadata": {},
   "outputs": [],
   "source": [
    "Soft_fc_postCU = cc_df.loc[(cc_df['Cycle_x'] >2011) & (cc_df['FC'] == 1), 'Soft (Orgs)'].dropna()"
   ]
  },
  {
   "cell_type": "code",
   "execution_count": 787,
   "metadata": {},
   "outputs": [],
   "source": [
    "Soft_nfc_postCU = cc_df.loc[(cc_df['Cycle_x'] >2011) & (cc_df['FC'] == 0), 'Soft (Orgs)'].dropna()"
   ]
  },
  {
   "cell_type": "code",
   "execution_count": 788,
   "metadata": {},
   "outputs": [],
   "source": [
    "Soft_fc_preCU = cc_df.loc[(cc_df['Cycle_x'] <=2011) & (cc_df['FC'] == 1), 'Soft (Orgs)'].dropna()"
   ]
  },
  {
   "cell_type": "code",
   "execution_count": 789,
   "metadata": {},
   "outputs": [],
   "source": [
    "Soft_nfc_preCU = cc_df.loc[(cc_df['Cycle_x'] <=2011) & (cc_df['FC'] == 0), 'Soft (Orgs)'].dropna()"
   ]
  },
  {
   "cell_type": "code",
   "execution_count": 802,
   "metadata": {
    "collapsed": true
   },
   "outputs": [
    {
     "data": {
      "text/plain": [
       "17       4551500\n",
       "18       4110250\n",
       "19       1752750\n",
       "20       3197000\n",
       "22        583850\n",
       "97         39500\n",
       "257      1243496\n",
       "258      1483162\n",
       "259      1302250\n",
       "260       577000\n",
       "261       673776\n",
       "262       986799\n",
       "337      4633700\n",
       "338      4458789\n",
       "339      3455750\n",
       "340      3505500\n",
       "341      4445075\n",
       "342      4280200\n",
       "385      2000922\n",
       "386      2316500\n",
       "387      2685500\n",
       "388      2321850\n",
       "389      1848200\n",
       "390      1960100\n",
       "417      3922881\n",
       "418      3233255\n",
       "419      2912633\n",
       "420      2838588\n",
       "421      2809399\n",
       "422      2914457\n",
       "          ...   \n",
       "40268     121500\n",
       "40269      26100\n",
       "40286     394000\n",
       "40287     276450\n",
       "40313       3350\n",
       "40458      20500\n",
       "40459      13103\n",
       "40460       3350\n",
       "40461       4100\n",
       "40462      41800\n",
       "40463      37700\n",
       "40499       3261\n",
       "40572      68000\n",
       "40574      58000\n",
       "40575      23000\n",
       "40596      33000\n",
       "40617       1000\n",
       "40951      40500\n",
       "40952      39000\n",
       "40953      45800\n",
       "40976       5000\n",
       "40977      61000\n",
       "41042       2700\n",
       "41069       8900\n",
       "41070       4000\n",
       "41072      12000\n",
       "41073       7200\n",
       "41151      36000\n",
       "41152      33000\n",
       "41153      11000\n",
       "Length: 1426, dtype: int64"
      ]
     },
     "execution_count": 802,
     "metadata": {},
     "output_type": "execute_result"
    }
   ],
   "source": [
    "sPAC_fc = cc_df.loc[cc_df['FC'] == 1][['Soft (Orgs)','PACs_x']].sum(axis=1)\n",
    "sPAC_fc"
   ]
  },
  {
   "cell_type": "code",
   "execution_count": 805,
   "metadata": {
    "collapsed": true
   },
   "outputs": [
    {
     "data": {
      "text/plain": [
       "0         987778\n",
       "1        1329559\n",
       "2         351924\n",
       "3         339887\n",
       "4         157025\n",
       "5         920295\n",
       "6         643941\n",
       "7         554869\n",
       "8         682707\n",
       "9         409580\n",
       "10        537386\n",
       "11        149455\n",
       "12        217859\n",
       "13        114540\n",
       "14         62460\n",
       "15         41000\n",
       "16          5000\n",
       "21        627800\n",
       "23        404350\n",
       "24        354300\n",
       "25       1282150\n",
       "26       1498115\n",
       "27       1205974\n",
       "28       1445602\n",
       "29       1069293\n",
       "30       1042662\n",
       "31        459478\n",
       "32        229500\n",
       "33        183021\n",
       "34        419700\n",
       "          ...   \n",
       "41161      16800\n",
       "41162        500\n",
       "41163        600\n",
       "41164       4300\n",
       "41165       3100\n",
       "41166       3025\n",
       "41167       7576\n",
       "41168      27250\n",
       "41169       3000\n",
       "41170       1000\n",
       "41171       1500\n",
       "41172       1200\n",
       "41173      15950\n",
       "41174     201000\n",
       "41175     122500\n",
       "41176     109787\n",
       "41177     257542\n",
       "41178      84500\n",
       "41179     129000\n",
       "41180      43500\n",
       "41181     389100\n",
       "41182      23500\n",
       "41183      50273\n",
       "41184      17000\n",
       "41185     644829\n",
       "41186     739335\n",
       "41187       3500\n",
       "41188      10000\n",
       "41189      11000\n",
       "41190       6900\n",
       "Length: 39765, dtype: int64"
      ]
     },
     "execution_count": 805,
     "metadata": {},
     "output_type": "execute_result"
    }
   ],
   "source": [
    "sPAC_nfc = cc_df.loc[cc_df['FC'] == 0][['Soft (Orgs)','PACs_x']].sum(axis=1)\n",
    "sPAC_nfc"
   ]
  },
  {
   "cell_type": "code",
   "execution_count": 807,
   "metadata": {},
   "outputs": [],
   "source": [
    "lsPAC_fc = np.log(sPAC_fc).dropna()"
   ]
  },
  {
   "cell_type": "code",
   "execution_count": 808,
   "metadata": {
    "collapsed": true
   },
   "outputs": [
    {
     "data": {
      "text/plain": [
       "17       15.330967\n",
       "18       15.228994\n",
       "19       14.376697\n",
       "20       14.977723\n",
       "22       13.277399\n",
       "97       10.584056\n",
       "257      14.033437\n",
       "258      14.209687\n",
       "259      14.079604\n",
       "260      13.265598\n",
       "261      13.420653\n",
       "262      13.802222\n",
       "337      15.348866\n",
       "338      15.310388\n",
       "339      15.055550\n",
       "340      15.069844\n",
       "341      15.307307\n",
       "342      15.269510\n",
       "385      14.509119\n",
       "386      14.655568\n",
       "387      14.803377\n",
       "388      14.657875\n",
       "389      14.429723\n",
       "390      14.488506\n",
       "417      15.182337\n",
       "418      14.989000\n",
       "419      14.884568\n",
       "420      14.858817\n",
       "421      14.848481\n",
       "422      14.885194\n",
       "           ...    \n",
       "40268    11.707670\n",
       "40269    10.169691\n",
       "40286    12.884106\n",
       "40287    12.529785\n",
       "40313     8.116716\n",
       "40458     9.928180\n",
       "40459     9.480596\n",
       "40460     8.116716\n",
       "40461     8.318742\n",
       "40462    10.640652\n",
       "40463    10.537415\n",
       "40499     8.089789\n",
       "40572    11.127263\n",
       "40574    10.968198\n",
       "40575    10.043249\n",
       "40596    10.404263\n",
       "40617     6.907755\n",
       "40951    10.609057\n",
       "40952    10.571317\n",
       "40953    10.732039\n",
       "40976     8.517193\n",
       "40977    11.018629\n",
       "41042     7.901007\n",
       "41069     9.093807\n",
       "41070     8.294050\n",
       "41072     9.392662\n",
       "41073     8.881836\n",
       "41151    10.491274\n",
       "41152    10.404263\n",
       "41153     9.305651\n",
       "Length: 1426, dtype: float64"
      ]
     },
     "execution_count": 808,
     "metadata": {},
     "output_type": "execute_result"
    }
   ],
   "source": [
    "lsPAC_fc"
   ]
  },
  {
   "cell_type": "code",
   "execution_count": 809,
   "metadata": {},
   "outputs": [],
   "source": [
    "lsPAC_nfc = np.log(sPAC_nfc).dropna()"
   ]
  },
  {
   "cell_type": "markdown",
   "metadata": {},
   "source": [
    "### T test results of contractors and non-contractors' PAC and soft money spending"
   ]
  },
  {
   "cell_type": "code",
   "execution_count": 813,
   "metadata": {
    "scrolled": true
   },
   "outputs": [
    {
     "name": "stdout",
     "output_type": "stream",
     "text": [
      "ttest_ind:            t = 8.62724  p = 1.94207e-17\n",
      "ttest_ind_from_stats: t = 8.62724  p = 1.94207e-17 \n",
      "\n",
      "formula:              t = 8.62724  p = 1.94207e-17\n",
      "sPAC_fc_postCU mean = 519063.91 ; sPAC_nfc_postCU mean = 235028.64 ; diff = 284035.26\n",
      "sPAC_fc_postCU n = 1000 ; sPAC_nfc_postCU n = 12505\n"
     ]
    },
    {
     "data": {
      "image/png": "[encoded data removed]",
      "text/plain": [
       "<Figure size 576x576 with 1 Axes>"
      ]
     },
     "metadata": {
      "needs_background": "light"
     },
     "output_type": "display_data"
    }
   ],
   "source": [
    "ttest(sPAC_fc_postCU, sPAC_nfc_postCU)"
   ]
  },
  {
   "cell_type": "code",
   "execution_count": 814,
   "metadata": {},
   "outputs": [
    {
     "name": "stdout",
     "output_type": "stream",
     "text": [
      "ttest_ind:            t = 7.71176  p = 8.72479e-14\n",
      "ttest_ind_from_stats: t = 7.71176  p = 8.72479e-14 \n",
      "\n",
      "formula:              t = 7.71176  p = 8.72479e-14\n",
      "sPAC_fc_preCU mean = 402164.03 ; sPAC_nfc_preCU mean = 148551.94 ; diff = 253612.09\n",
      "sPAC_fc_preCU n = 426 ; sPAC_nfc_preCU n = 27260\n"
     ]
    },
    {
     "data": {
      "image/png": "[encoded data removed]",
      "text/plain": [
       "<Figure size 576x576 with 1 Axes>"
      ]
     },
     "metadata": {
      "needs_background": "light"
     },
     "output_type": "display_data"
    }
   ],
   "source": [
    "ttest(sPAC_fc_preCU, sPAC_nfc_preCU)"
   ]
  },
  {
   "cell_type": "code",
   "execution_count": 810,
   "metadata": {
    "scrolled": true
   },
   "outputs": [
    {
     "name": "stdout",
     "output_type": "stream",
     "text": [
      "ttest_ind:            t = 29.1759  p = 2.11927e-149\n",
      "ttest_ind_from_stats: t = 29.1759  p = 2.11927e-149 \n",
      "\n",
      "formula:              t = 29.1759  p = 2.11927e-149\n",
      "_ mean = 11.75 ; lsPAC_nfc mean = 10.28 ; diff = 1.48\n"
     ]
    },
    {
     "name": "stderr",
     "output_type": "stream",
     "text": [
      "/Users/ptw/anaconda3/lib/python3.7/site-packages/matplotlib/legend.py:449: UserWarning: The handle <matplotlib.patches.Rectangle object at 0x7fa45a4d2438> has a label of '_' which cannot be automatically added to the legend.\n",
      "  'legend.'.format(handle, label))\n"
     ]
    },
    {
     "data": {
      "image/png": "[encoded data removed]",
      "text/plain": [
       "<Figure size 576x576 with 1 Axes>"
      ]
     },
     "metadata": {
      "needs_background": "light"
     },
     "output_type": "display_data"
    }
   ],
   "source": [
    "ttest(lsPAC_fc, lsPAC_nfc)"
   ]
  },
  {
   "cell_type": "markdown",
   "metadata": {},
   "source": [
    "###  Bubble charts by year"
   ]
  },
  {
   "cell_type": "code",
   "execution_count": 9,
   "metadata": {},
   "outputs": [],
   "source": [
    "master_df = master[[\n",
    " 'recipient_parent_name1',\n",
    " 'recipient_name_clean',\n",
    " 'recipient_name',\n",
    " 'org_name_clean',\n",
    " 'org_name',\n",
    " 'current_award',\n",
    " 'potential_award',\n",
    " 'num_employees',\n",
    " 'annual_revenue',\n",
    " 'year',\n",
    " 'Democrats',\n",
    " 'Republicans',\n",
    " 'PACs',\n",
    " 'Soft_Orgs',\n",
    " 'Total1',\n",
    "]]"
   ]
  },
  {
   "cell_type": "markdown",
   "metadata": {},
   "source": [
    "#### Feature engineering"
   ]
  },
  {
   "cell_type": "code",
   "execution_count": 10,
   "metadata": {},
   "outputs": [
    {
     "name": "stdout",
     "output_type": "stream",
     "text": [
      "(1421, 16)\n"
     ]
    },
    {
     "name": "stderr",
     "output_type": "stream",
     "text": [
      "/Users/ptw/anaconda3/lib/python3.7/site-packages/ipykernel_launcher.py:1: SettingWithCopyWarning: \n",
      "A value is trying to be set on a copy of a slice from a DataFrame.\n",
      "Try using .loc[row_indexer,col_indexer] = value instead\n",
      "\n",
      "See the caveats in the documentation: http://pandas.pydata.org/pandas-docs/stable/indexing.html#indexing-view-versus-copy\n",
      "  \"\"\"Entry point for launching an IPython kernel.\n"
     ]
    },
    {
     "data": {
      "text/html": [
       "<div>\n",
       "<style scoped>\n",
       "    .dataframe tbody tr th:only-of-type {\n",
       "        vertical-align: middle;\n",
       "    }\n",
       "\n",
       "    .dataframe tbody tr th {\n",
       "        vertical-align: top;\n",
       "    }\n",
       "\n",
       "    .dataframe thead th {\n",
       "        text-align: right;\n",
       "    }\n",
       "</style>\n",
       "<table border=\"1\" class=\"dataframe\">\n",
       "  <thead>\n",
       "    <tr style=\"text-align: right;\">\n",
       "      <th></th>\n",
       "      <th>recipient_parent_name1</th>\n",
       "      <th>recipient_name_clean</th>\n",
       "      <th>recipient_name</th>\n",
       "      <th>org_name_clean</th>\n",
       "      <th>org_name</th>\n",
       "      <th>current_award</th>\n",
       "      <th>potential_award</th>\n",
       "      <th>num_employees</th>\n",
       "      <th>annual_revenue</th>\n",
       "      <th>year</th>\n",
       "      <th>Democrats</th>\n",
       "      <th>Republicans</th>\n",
       "      <th>PACs</th>\n",
       "      <th>Soft_Orgs</th>\n",
       "      <th>Total1</th>\n",
       "      <th>pacs_plus_softorgs</th>\n",
       "    </tr>\n",
       "  </thead>\n",
       "  <tbody>\n",
       "    <tr>\n",
       "      <th>0</th>\n",
       "      <td>3MCOMPANY</td>\n",
       "      <td>3m</td>\n",
       "      <td>3M COMPANY</td>\n",
       "      <td>3m</td>\n",
       "      <td>3M CO</td>\n",
       "      <td>7.838262e+06</td>\n",
       "      <td>4.342798e+07</td>\n",
       "      <td>2.854455e+06</td>\n",
       "      <td>1.030000e+12</td>\n",
       "      <td>2008</td>\n",
       "      <td>180494</td>\n",
       "      <td>257681</td>\n",
       "      <td>284404</td>\n",
       "      <td>0</td>\n",
       "      <td>438175</td>\n",
       "      <td>284404</td>\n",
       "    </tr>\n",
       "    <tr>\n",
       "      <th>1</th>\n",
       "      <td>ABBLTD</td>\n",
       "      <td>abb</td>\n",
       "      <td>ABB LTD</td>\n",
       "      <td>abb</td>\n",
       "      <td>ABB GROUP</td>\n",
       "      <td>3.163537e+05</td>\n",
       "      <td>3.163537e+05</td>\n",
       "      <td>2.164675e+04</td>\n",
       "      <td>6.203500e+09</td>\n",
       "      <td>2008</td>\n",
       "      <td>10686</td>\n",
       "      <td>10850</td>\n",
       "      <td>18000</td>\n",
       "      <td>0</td>\n",
       "      <td>21536</td>\n",
       "      <td>18000</td>\n",
       "    </tr>\n",
       "    <tr>\n",
       "      <th>2</th>\n",
       "      <td>ABBOTTLABORATORIES</td>\n",
       "      <td>abbott laboratories</td>\n",
       "      <td>ABBOTT LABORATORIES</td>\n",
       "      <td>abbott laboratories</td>\n",
       "      <td>ABBOTT LABORATORIES</td>\n",
       "      <td>2.329304e+07</td>\n",
       "      <td>6.244787e+07</td>\n",
       "      <td>5.342950e+04</td>\n",
       "      <td>1.786237e+09</td>\n",
       "      <td>2008</td>\n",
       "      <td>575791</td>\n",
       "      <td>709850</td>\n",
       "      <td>1028497</td>\n",
       "      <td>0</td>\n",
       "      <td>1285641</td>\n",
       "      <td>1028497</td>\n",
       "    </tr>\n",
       "    <tr>\n",
       "      <th>3</th>\n",
       "      <td>ADVANCEDACOUSTICCONCEPTSINC</td>\n",
       "      <td>advanced acoustic concepts</td>\n",
       "      <td>ADVANCED ACOUSTIC CONCEPTS  INC.</td>\n",
       "      <td>advanced acoustic concepts</td>\n",
       "      <td>ADVANCED ACOUSTIC CONCEPTS</td>\n",
       "      <td>2.627054e+07</td>\n",
       "      <td>5.877078e+07</td>\n",
       "      <td>2.000000e+02</td>\n",
       "      <td>2.691478e+07</td>\n",
       "      <td>2008</td>\n",
       "      <td>119550</td>\n",
       "      <td>23300</td>\n",
       "      <td>107600</td>\n",
       "      <td>0</td>\n",
       "      <td>142850</td>\n",
       "      <td>107600</td>\n",
       "    </tr>\n",
       "    <tr>\n",
       "      <th>4</th>\n",
       "      <td>AFOGNAKNATIVECORPORATION</td>\n",
       "      <td>afognak native</td>\n",
       "      <td>AFOGNAK NATIVE CORPORATION</td>\n",
       "      <td>afognak native</td>\n",
       "      <td>AFOGNAK NATIVE CORP</td>\n",
       "      <td>4.654850e+08</td>\n",
       "      <td>1.040796e+09</td>\n",
       "      <td>4.909336e+02</td>\n",
       "      <td>1.786700e+07</td>\n",
       "      <td>2008</td>\n",
       "      <td>6070</td>\n",
       "      <td>3750</td>\n",
       "      <td>6000</td>\n",
       "      <td>0</td>\n",
       "      <td>9820</td>\n",
       "      <td>6000</td>\n",
       "    </tr>\n",
       "  </tbody>\n",
       "</table>\n",
       "</div>"
      ],
      "text/plain": [
       "        recipient_parent_name1        recipient_name_clean  \\\n",
       "0                    3MCOMPANY                          3m   \n",
       "1                       ABBLTD                         abb   \n",
       "2           ABBOTTLABORATORIES         abbott laboratories   \n",
       "3  ADVANCEDACOUSTICCONCEPTSINC  advanced acoustic concepts   \n",
       "4     AFOGNAKNATIVECORPORATION              afognak native   \n",
       "\n",
       "                     recipient_name              org_name_clean  \\\n",
       "0                        3M COMPANY                          3m   \n",
       "1                           ABB LTD                         abb   \n",
       "2               ABBOTT LABORATORIES         abbott laboratories   \n",
       "3  ADVANCED ACOUSTIC CONCEPTS  INC.  advanced acoustic concepts   \n",
       "4        AFOGNAK NATIVE CORPORATION              afognak native   \n",
       "\n",
       "                     org_name  current_award  potential_award  num_employees  \\\n",
       "0                       3M CO   7.838262e+06     4.342798e+07   2.854455e+06   \n",
       "1                   ABB GROUP   3.163537e+05     3.163537e+05   2.164675e+04   \n",
       "2         ABBOTT LABORATORIES   2.329304e+07     6.244787e+07   5.342950e+04   \n",
       "3  ADVANCED ACOUSTIC CONCEPTS   2.627054e+07     5.877078e+07   2.000000e+02   \n",
       "4         AFOGNAK NATIVE CORP   4.654850e+08     1.040796e+09   4.909336e+02   \n",
       "\n",
       "   annual_revenue  year  Democrats  Republicans     PACs  Soft_Orgs   Total1  \\\n",
       "0    1.030000e+12  2008     180494       257681   284404          0   438175   \n",
       "1    6.203500e+09  2008      10686        10850    18000          0    21536   \n",
       "2    1.786237e+09  2008     575791       709850  1028497          0  1285641   \n",
       "3    2.691478e+07  2008     119550        23300   107600          0   142850   \n",
       "4    1.786700e+07  2008       6070         3750     6000          0     9820   \n",
       "\n",
       "   pacs_plus_softorgs  \n",
       "0              284404  \n",
       "1               18000  \n",
       "2             1028497  \n",
       "3              107600  \n",
       "4                6000  "
      ]
     },
     "execution_count": 10,
     "metadata": {},
     "output_type": "execute_result"
    }
   ],
   "source": [
    "master_df['pacs_plus_softorgs'] = master_df.PACs + master_df.Soft_Orgs\n",
    "print(master_df.shape)\n",
    "master_df.head()"
   ]
  },
  {
   "cell_type": "code",
   "execution_count": 11,
   "metadata": {},
   "outputs": [
    {
     "name": "stderr",
     "output_type": "stream",
     "text": [
      "/Users/ptw/anaconda3/lib/python3.7/site-packages/ipykernel_launcher.py:1: SettingWithCopyWarning: \n",
      "A value is trying to be set on a copy of a slice from a DataFrame.\n",
      "Try using .loc[row_indexer,col_indexer] = value instead\n",
      "\n",
      "See the caveats in the documentation: http://pandas.pydata.org/pandas-docs/stable/indexing.html#indexing-view-versus-copy\n",
      "  \"\"\"Entry point for launching an IPython kernel.\n",
      "/Users/ptw/anaconda3/lib/python3.7/site-packages/ipykernel_launcher.py:2: SettingWithCopyWarning: \n",
      "A value is trying to be set on a copy of a slice from a DataFrame.\n",
      "Try using .loc[row_indexer,col_indexer] = value instead\n",
      "\n",
      "See the caveats in the documentation: http://pandas.pydata.org/pandas-docs/stable/indexing.html#indexing-view-versus-copy\n",
      "  \n",
      "/Users/ptw/anaconda3/lib/python3.7/site-packages/ipykernel_launcher.py:3: SettingWithCopyWarning: \n",
      "A value is trying to be set on a copy of a slice from a DataFrame.\n",
      "Try using .loc[row_indexer,col_indexer] = value instead\n",
      "\n",
      "See the caveats in the documentation: http://pandas.pydata.org/pandas-docs/stable/indexing.html#indexing-view-versus-copy\n",
      "  This is separate from the ipykernel package so we can avoid doing imports until\n",
      "/Users/ptw/anaconda3/lib/python3.7/site-packages/ipykernel_launcher.py:4: SettingWithCopyWarning: \n",
      "A value is trying to be set on a copy of a slice from a DataFrame.\n",
      "Try using .loc[row_indexer,col_indexer] = value instead\n",
      "\n",
      "See the caveats in the documentation: http://pandas.pydata.org/pandas-docs/stable/indexing.html#indexing-view-versus-copy\n",
      "  after removing the cwd from sys.path.\n"
     ]
    }
   ],
   "source": [
    "master_df['current_award_scaled'] = master_df.current_award/100\n",
    "master_df['soft_dummy'] = (master_df.Soft_Orgs > 0).astype(int)\n",
    "master_df['current_award_scaled_log'] = np.log(master_df.current_award_scaled)\n",
    "master_df['pacs_plus_softorgs_log'] = np.log(master_df.pacs_plus_softorgs)"
   ]
  },
  {
   "cell_type": "code",
   "execution_count": 12,
   "metadata": {},
   "outputs": [],
   "source": [
    "def soft_size_or_50(x):\n",
    "    if x > 0:\n",
    "        return max(50, x/1000)\n",
    "    else:\n",
    "        return 50"
   ]
  },
  {
   "cell_type": "code",
   "execution_count": 13,
   "metadata": {},
   "outputs": [
    {
     "name": "stderr",
     "output_type": "stream",
     "text": [
      "/Users/ptw/anaconda3/lib/python3.7/site-packages/ipykernel_launcher.py:1: SettingWithCopyWarning: \n",
      "A value is trying to be set on a copy of a slice from a DataFrame.\n",
      "Try using .loc[row_indexer,col_indexer] = value instead\n",
      "\n",
      "See the caveats in the documentation: http://pandas.pydata.org/pandas-docs/stable/indexing.html#indexing-view-versus-copy\n",
      "  \"\"\"Entry point for launching an IPython kernel.\n"
     ]
    }
   ],
   "source": [
    "master_df['soft_dummy_size'] = master_df.Soft_Orgs.apply(soft_size_or_50)"
   ]
  },
  {
   "cell_type": "markdown",
   "metadata": {},
   "source": [
    "Top 100 corporations by total current award amount"
   ]
  },
  {
   "cell_type": "code",
   "execution_count": 14,
   "metadata": {},
   "outputs": [
    {
     "data": {
      "text/plain": [
       "100"
      ]
     },
     "execution_count": 14,
     "metadata": {},
     "output_type": "execute_result"
    }
   ],
   "source": [
    "top_100 = list(master_df.groupby('org_name_clean')['current_award'].sum().sort_values(ascending=False).reset_index()['org_name_clean'].values)[:100]\n",
    "len(top_100)"
   ]
  },
  {
   "cell_type": "markdown",
   "metadata": {},
   "source": [
    "Filter data down to the columns of interest"
   ]
  },
  {
   "cell_type": "code",
   "execution_count": 15,
   "metadata": {},
   "outputs": [
    {
     "name": "stdout",
     "output_type": "stream",
     "text": [
      "(1421, 11)\n"
     ]
    },
    {
     "data": {
      "text/html": [
       "<div>\n",
       "<style scoped>\n",
       "    .dataframe tbody tr th:only-of-type {\n",
       "        vertical-align: middle;\n",
       "    }\n",
       "\n",
       "    .dataframe tbody tr th {\n",
       "        vertical-align: top;\n",
       "    }\n",
       "\n",
       "    .dataframe thead th {\n",
       "        text-align: right;\n",
       "    }\n",
       "</style>\n",
       "<table border=\"1\" class=\"dataframe\">\n",
       "  <thead>\n",
       "    <tr style=\"text-align: right;\">\n",
       "      <th></th>\n",
       "      <th>org_name_clean</th>\n",
       "      <th>year</th>\n",
       "      <th>current_award_scaled</th>\n",
       "      <th>pacs_plus_softorgs</th>\n",
       "      <th>num_employees</th>\n",
       "      <th>annual_revenue</th>\n",
       "      <th>Soft_Orgs</th>\n",
       "      <th>soft_dummy</th>\n",
       "      <th>pacs_plus_softorgs_log</th>\n",
       "      <th>current_award_scaled_log</th>\n",
       "      <th>soft_dummy_size</th>\n",
       "    </tr>\n",
       "  </thead>\n",
       "  <tbody>\n",
       "    <tr>\n",
       "      <th>0</th>\n",
       "      <td>3m</td>\n",
       "      <td>2008</td>\n",
       "      <td>7.838262e+04</td>\n",
       "      <td>284404</td>\n",
       "      <td>2.854455e+06</td>\n",
       "      <td>1.030000e+12</td>\n",
       "      <td>0</td>\n",
       "      <td>0</td>\n",
       "      <td>12.558151</td>\n",
       "      <td>11.269358</td>\n",
       "      <td>50.0</td>\n",
       "    </tr>\n",
       "    <tr>\n",
       "      <th>1</th>\n",
       "      <td>abb</td>\n",
       "      <td>2008</td>\n",
       "      <td>3.163537e+03</td>\n",
       "      <td>18000</td>\n",
       "      <td>2.164675e+04</td>\n",
       "      <td>6.203500e+09</td>\n",
       "      <td>0</td>\n",
       "      <td>0</td>\n",
       "      <td>9.798127</td>\n",
       "      <td>8.059446</td>\n",
       "      <td>50.0</td>\n",
       "    </tr>\n",
       "    <tr>\n",
       "      <th>2</th>\n",
       "      <td>abbott laboratories</td>\n",
       "      <td>2008</td>\n",
       "      <td>2.329304e+05</td>\n",
       "      <td>1028497</td>\n",
       "      <td>5.342950e+04</td>\n",
       "      <td>1.786237e+09</td>\n",
       "      <td>0</td>\n",
       "      <td>0</td>\n",
       "      <td>13.843609</td>\n",
       "      <td>12.358495</td>\n",
       "      <td>50.0</td>\n",
       "    </tr>\n",
       "    <tr>\n",
       "      <th>3</th>\n",
       "      <td>advanced acoustic concepts</td>\n",
       "      <td>2008</td>\n",
       "      <td>2.627055e+05</td>\n",
       "      <td>107600</td>\n",
       "      <td>2.000000e+02</td>\n",
       "      <td>2.691478e+07</td>\n",
       "      <td>0</td>\n",
       "      <td>0</td>\n",
       "      <td>11.586176</td>\n",
       "      <td>12.478789</td>\n",
       "      <td>50.0</td>\n",
       "    </tr>\n",
       "    <tr>\n",
       "      <th>4</th>\n",
       "      <td>afognak native</td>\n",
       "      <td>2008</td>\n",
       "      <td>4.654850e+06</td>\n",
       "      <td>6000</td>\n",
       "      <td>4.909336e+02</td>\n",
       "      <td>1.786700e+07</td>\n",
       "      <td>0</td>\n",
       "      <td>0</td>\n",
       "      <td>8.699515</td>\n",
       "      <td>15.353420</td>\n",
       "      <td>50.0</td>\n",
       "    </tr>\n",
       "  </tbody>\n",
       "</table>\n",
       "</div>"
      ],
      "text/plain": [
       "               org_name_clean  year  current_award_scaled  pacs_plus_softorgs  \\\n",
       "0                          3m  2008          7.838262e+04              284404   \n",
       "1                         abb  2008          3.163537e+03               18000   \n",
       "2         abbott laboratories  2008          2.329304e+05             1028497   \n",
       "3  advanced acoustic concepts  2008          2.627055e+05              107600   \n",
       "4              afognak native  2008          4.654850e+06                6000   \n",
       "\n",
       "   num_employees  annual_revenue  Soft_Orgs  soft_dummy  \\\n",
       "0   2.854455e+06    1.030000e+12          0           0   \n",
       "1   2.164675e+04    6.203500e+09          0           0   \n",
       "2   5.342950e+04    1.786237e+09          0           0   \n",
       "3   2.000000e+02    2.691478e+07          0           0   \n",
       "4   4.909336e+02    1.786700e+07          0           0   \n",
       "\n",
       "   pacs_plus_softorgs_log  current_award_scaled_log  soft_dummy_size  \n",
       "0               12.558151                 11.269358             50.0  \n",
       "1                9.798127                  8.059446             50.0  \n",
       "2               13.843609                 12.358495             50.0  \n",
       "3               11.586176                 12.478789             50.0  \n",
       "4                8.699515                 15.353420             50.0  "
      ]
     },
     "execution_count": 15,
     "metadata": {},
     "output_type": "execute_result"
    }
   ],
   "source": [
    "input_data = master_df[['org_name_clean', 'year', 'current_award_scaled', 'pacs_plus_softorgs', 'num_employees', 'annual_revenue', 'Soft_Orgs', 'soft_dummy', 'pacs_plus_softorgs_log', 'current_award_scaled_log', 'soft_dummy_size']]\n",
    "# input_data = input_data[input_data.org_name_clean.isin(top_100)]  # top 100\n",
    "print(input_data.shape)\n",
    "input_data.head()"
   ]
  },
  {
   "cell_type": "markdown",
   "metadata": {},
   "source": [
    "#### Save image below for each year (and record gif manually)"
   ]
  },
  {
   "cell_type": "code",
   "execution_count": 19,
   "metadata": {},
   "outputs": [
    {
     "data": {
      "image/png": "[encoded data removed]",
      "text/plain": [
       "<Figure size 720x576 with 1 Axes>"
      ]
     },
     "metadata": {},
     "output_type": "display_data"
    }
   ],
   "source": [
    "plt.style.use('fivethirtyeight')\n",
    "fig = plt.figure(figsize=(10,8))\n",
    "ax = fig.add_subplot(111)\n",
    "\n",
    "for yr in range(2008, 2019, 2):  \n",
    "    d = input_data[input_data.year == yr]\n",
    "    soft_1 = d[d.soft_dummy == 1]\n",
    "    soft_0 = d[d.soft_dummy == 0]\n",
    "\n",
    "    ax.scatter(soft_1.current_award_scaled_log, soft_1.pacs_plus_softorgs_log, s=soft_1.soft_dummy_size, alpha=0.3, color='salmon')\n",
    "    ax.scatter(soft_0.current_award_scaled_log, soft_0.pacs_plus_softorgs_log, s=50, alpha=0.3, color='royalblue')\n",
    "\n",
    "    ax.set_title(f'\\n Current award vs. PAC/soft money in {yr} \\n', size=20)\n",
    "    ax.set_ylabel('PACS/Soft Money (log)', size=14)\n",
    "    ax.set_xlabel('Current award amount (log)', size=14)\n",
    "\n",
    "    ax.set_ylim([5,17])\n",
    "    ax.set_xlim([0, 30])\n",
    "    plt.savefig(os.getcwd() + f'_current_award_vs_pac_soft_{yr}.png')"
   ]
  }
 ],
 "metadata": {
  "kernelspec": {
   "display_name": "Python 3",
   "language": "python",
   "name": "python3"
  },
  "language_info": {
   "codemirror_mode": {
    "name": "ipython",
    "version": 3
   },
   "file_extension": ".py",
   "mimetype": "text/x-python",
   "name": "python",
   "nbconvert_exporter": "python",
   "pygments_lexer": "ipython3",
   "version": "3.7.3"
  }
 },
 "nbformat": 4,
 "nbformat_minor": 2
}
